{
 "cells": [
  {
   "cell_type": "code",
   "execution_count": 1,
   "id": "fa7bf69a-c7c6-46c2-a73b-a40f0b67f0c9",
   "metadata": {},
   "outputs": [],
   "source": [
    "import random\n",
    "import redis\n",
    "r = redis.Redis(host=\"192.168.0.55\")"
   ]
  },
  {
   "cell_type": "code",
   "execution_count": 2,
   "id": "43ecfcf8-63e2-4a2a-9712-a341416b897c",
   "metadata": {
    "tags": []
   },
   "outputs": [],
   "source": [
    " var1 = [\"temp_ss_0\", \"temp_ss_1\", \"temp_ss_2\", \"temp_ss_3\", \"temp_ss_4\", \"temp_ss_5\", \n",
    "       \"temp_ss_6\", \"temp_ss_7\", \"temp_ss_8\", \"temp_ss_9\", \"temp_ss_10\", \n",
    "       \"temp_ss_11\", \"temp_ss_12\", \"temp_ss_13\", \"temp_ss_14\", \"temp_ss_15\",\n",
    "       \"od_135_ss_0\", \"od_135_ss_1\", \"od_135_ss_2\", \"od_135_ss_3\", \"od_135_ss_4\",\"od_135_ss_5\", \n",
    "       \"od_135_ss_6\", \"od_135_ss_7\", \"od_135_ss_8\", \"od_135_ss_9\",\"od_135_ss_10\", \n",
    "       \"od_135_ss_11\", \"od_135_ss_12\", \"od_135_ss_13\", \"od_135_ss_14\", \"od_135_ss_15\",\n",
    "       \"stir_ss_0\", \"stir_ss_1\", \"stir_ss_2\", \"stir_ss_3\", \"stir_ss_4\", \"stir_ss_5\",\n",
    "       \"stir_ss_6\", \"stir_ss_7\", \"stir_ss_8\", \"stir_ss_9\", \"stir_ss_10\",\n",
    "       \"stir_ss_11\", \"stir_ss_12\", \"stir_ss_13\", \"stir_ss_14\", \"stir_ss_15\",\n",
    "       \"volume_ss_0\", \"volume_ss_1\", \"volume_ss_2\", \"volume_ss_3\", \"volume_ss_4\", \"volume_ss_5\", \n",
    "       \"volume_ss_6\", \"volume_ss_7\", \"volume_ss_8\", \"volume_ss_9\", \"volume_ss_10\", \n",
    "       \"volume_ss_11\", \"volume_ss_12\", \"volume_ss_13\", \"volume_ss_14\", \"volume_ss_15\", \"timestamp\"]"
   ]
  },
  {
   "cell_type": "code",
   "execution_count": null,
   "id": "b137f2d5-3a1f-41e8-b85d-3ad9fde2078e",
   "metadata": {},
   "outputs": [],
   "source": [
    "while (1):\n",
    "    #for j in range(100):\n",
    "    for i in range(65):\n",
    "            r.set(var1[i], random.randint(0, 100))"
   ]
  },
  {
   "cell_type": "code",
   "execution_count": null,
   "id": "48559e5a-cf7f-4ca7-bc6c-e5177ff8a34d",
   "metadata": {},
   "outputs": [],
   "source": []
  }
 ],
 "metadata": {
  "kernelspec": {
   "display_name": "ilumpy",
   "language": "python",
   "name": "ilumpy"
  },
  "language_info": {
   "codemirror_mode": {
    "name": "ipython",
    "version": 3
   },
   "file_extension": ".py",
   "mimetype": "text/x-python",
   "name": "python",
   "nbconvert_exporter": "python",
   "pygments_lexer": "ipython3",
   "version": "3.9.7"
  }
 },
 "nbformat": 4,
 "nbformat_minor": 5
}
